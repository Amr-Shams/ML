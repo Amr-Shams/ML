{
 "cells": [
  {
   "cell_type": "markdown",
   "metadata": {},
   "source": [
    "<h1> A custome notebook for every single keras built in method </h1>\n",
    "<h2> This notebook is a collection of all the keras built in methods and their usage </h2>\n",
    "<ol> \n",
    "<h2>List of Custom models</h2>\n",
    "<li> custome loss function </li>\n",
    "<li> custome activation function </li>\n",
    "<li> custome regularizer </li>\n",
    "<li> custome initializer </li>\n",
    "<li> custome constraint </li>\n",
    "<li> custome metric </li>\n",
    "<li> custome layer </li>\n",
    "<li> custome callback </li>\n",
    "<li> custome optimizer </li>\n",
    "<li> custome preprocessing layer </li>\n",
    "<li> custome training loop </li>\n",
    "<li> custome training step </li>\n",
    "<li> custome training </li>\n",
    "</ol>"
   ]
  },
  {
   "cell_type": "code",
   "execution_count": 4,
   "metadata": {},
   "outputs": [],
   "source": [
    "# custome loss function using keras backend\n",
    "import tensorflow as tf\n",
    "class CustomizedLoss(tf.keras.losses.Loss):\n",
    "    def __init_self(self,threshold=.1,**kwargs):\n",
    "        self.threshold=threshold\n",
    "        super().__init__(**kwargs)\n",
    "\n",
    "    def call(self,y_true,y_pred):\n",
    "        error = y_true - y_pred\n",
    "        is_small_error = tf.abs(error)<self.threshold\n",
    "        squared_error = tf.square(error)/2\n",
    "        linear_error = self.threshold*tf.abs(error)-self.threshold**2/2\n",
    "        return tf.where(is_small_error,squared_error,linear_error)\n",
    "    def get_config(self):\n",
    "        base = super().get_config()\n",
    "        return {**base,\"threshold\":self.threshold}  # to add threshold to the config\n",
    "    "
   ]
  },
  {
   "cell_type": "code",
   "execution_count": 7,
   "metadata": {},
   "outputs": [],
   "source": [
    "# custom activation function\n",
    "class CustomizedActivation(tf.keras.layers.Layer):\n",
    "    def __init__(self,activation,**kwargs):\n",
    "        super().__init__(**kwargs)\n",
    "        self.activation = tf.keras.activations.get(activation)\n",
    "    def call(self,inputs):\n",
    "        return self.activation(inputs)\n",
    "    def get_config(self):\n",
    "        base = super().get_config()\n",
    "        return {**base,\"activation\":tf.keras.activations.serialize(self.activation)}"
   ]
  },
  {
   "cell_type": "code",
   "execution_count": 8,
   "metadata": {},
   "outputs": [],
   "source": [
    "# custom initializer\n",
    "class CustomizedInitializer(tf.keras.initializers.Initializer):\n",
    "    def __init__(self,factor,**kwargs):\n",
    "        self.factor = factor\n",
    "        super().__init__(**kwargs)\n",
    "    def __call__(self,shape,dtype=None):\n",
    "        return tf.fill(shape,self.factor)\n",
    "    def get_config(self):\n",
    "        base = super().get_config()\n",
    "        return {**base,\"factor\":self.factor}\n"
   ]
  },
  {
   "cell_type": "code",
   "execution_count": 9,
   "metadata": {},
   "outputs": [],
   "source": [
    "# custom regularizer\n",
    "class customized_l1_regularizer(tf.keras.regularizers.Regularizer):\n",
    "    def __init__(self) -> None:\n",
    "        super().__init__()"
   ]
  },
  {
   "cell_type": "code",
   "execution_count": 10,
   "metadata": {},
   "outputs": [],
   "source": [
    "# custom constraint\n",
    "class CustomizedConstraint(tf.keras.constraints.Constraint):\n",
    "    def __init__(self,factor,**kwargs):\n",
    "        self.factor = factor\n",
    "        super().__init__(**kwargs)\n",
    "    def __call__(self,weight):\n",
    "        return weight + self.factor\n",
    "    def get_config(self):\n",
    "        base = super().get_config()\n",
    "        return {**base,\"factor\":self.factor}\n",
    "    "
   ]
  },
  {
   "cell_type": "code",
   "execution_count": 11,
   "metadata": {},
   "outputs": [],
   "source": [
    "# custom metric\n",
    "class CustomizedMetric(tf.keras.metrics.Metric):\n",
    "    def __init__(self,threshold = 0.1, **kwargs):\n",
    "        self.threshold = threshold\n",
    "        self.huber_loss = CustomizedLoss(threshold)\n",
    "        self.total = self.add_weight(\"total\",initializer=\"zeros\")\n",
    "        self.count = self.add_weight(\"count\",initializer=\"zeros\")\n",
    "        super().__init__(**kwargs)\n",
    "    def update_state(self,y_true,y_pred,sample_weight=None):\n",
    "        loss = self.huber_loss(y_true,y_pred)\n",
    "        self.total.assign_add(tf.reduce_sum(loss))\n",
    "        self.count.assign_add(tf.cast(tf.size(y_true),tf.float32))\n",
    "    def result(self):\n",
    "        return self.total/self.count\n",
    "    def get_config(self):\n",
    "        base = super().get_config()\n",
    "        return {**base,\"threshold\":self.threshold}\n",
    "    "
   ]
  },
  {
   "cell_type": "code",
   "execution_count": null,
   "metadata": {},
   "outputs": [],
   "source": [
    "# custom layer\n",
    "class CustomizedLayer(tf.keras.layers.Layer):\n",
    "    def __init__(self,units,activation=None,**kwargs):\n",
    "        self.activation = tf.keras.activations.get(activation)\n",
    "        self.units = units\n",
    "        super().__init__(**kwargs)\n",
    "    def build(self,batch_input_shape):\n",
    "        self.kernal = self.add_weight(\n",
    "            name=\"kernal\",shape=[batch_input_shape[-1],self.units],\n",
    "            initializer=\"glorot_normal\"\n",
    "        )\n",
    "        self.bias = self.add_weight(\n",
    "            name=\"bias\",shape=[self.units],initializer=\"zeros\"\n",
    "        )\n",
    "        super().build(batch_input_shape)\n",
    "    def call(self,X)\n",
    "        return self.activation(\n",
    "            X @ self.kernal + self.bias\n",
    "        )\n",
    "    def compute_output_shape(self,batch_input_shape):\n",
    "        return tf.TensorShape(batch_input_shape.as_list()[:-1]+[self.units])\n",
    "    def get_config(self):\n",
    "        base = super().get_config()\n",
    "        return {**base,\"units\":self.units,\"activation\":tf.keras.activations.serialize(self.activation)}\n",
    "    \n"
   ]
  }
 ],
 "metadata": {
  "kernelspec": {
   "display_name": "ML",
   "language": "python",
   "name": "python3"
  },
  "language_info": {
   "codemirror_mode": {
    "name": "ipython",
    "version": 3
   },
   "file_extension": ".py",
   "mimetype": "text/x-python",
   "name": "python",
   "nbconvert_exporter": "python",
   "pygments_lexer": "ipython3",
   "version": "3.11.4"
  },
  "orig_nbformat": 4
 },
 "nbformat": 4,
 "nbformat_minor": 2
}
